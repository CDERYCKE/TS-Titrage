{
 "cells": [
  {
   "cell_type": "markdown",
   "metadata": {},
   "source": [
    "# Chapitre 3 - Evolution des quantités de matière lors d'un titrage"
   ]
  },
  {
   "cell_type": "markdown",
   "metadata": {},
   "source": [
    "au BO :\n",
    "    _\"Capacité numérique : Représenter, à l’aide d’un langage de programmation, l’évolution des quantités de matière des espèces\n",
    "    en fonction du volume de solution titrante versé.\"_"
   ]
  },
  {
   "cell_type": "markdown",
   "metadata": {},
   "source": [
    "## 1- un peu de chimie avant de programmer :\n",
    "\n",
    "On effectue ici le dosage par titrage de l'acide citrique, noté $H_3 A (aq)$, par les ions hydroxyde, $HO^- (aq)$  \n",
    "On a choisi un triacide afin que les nombres stoechiométriques ne soient pas tous égaux à 1."
   ]
  },
  {
   "cell_type": "markdown",
   "metadata": {},
   "source": [
    "L'équation modélisant la transformation chimique est notée dans le cas général : aA + bB --> cC + dD"
   ]
  },
  {
   "cell_type": "markdown",
   "metadata": {},
   "source": [
    "<div class=\"alert alert-warning\" role=\"alert\">\n",
    "    <strong> Travail à faire sur la fiche réponse : </strong> <br>\n",
    "    --> Répondre aux questions posées <br>\n",
    "</div>"
   ]
  },
  {
   "cell_type": "markdown",
   "metadata": {},
   "source": [
    "## 2- Programmation :  \n",
    "On commence par créer une fonction qui donne l'avancement maximal (réaction totale) : "
   ]
  },
  {
   "cell_type": "markdown",
   "metadata": {},
   "source": [
    "<div class=\"alert alert-info\" role=\"alert\">\n",
    "  <strong>Travail à faire sur le notebook : </strong> <br>\n",
    "    Pour les cellules de code suivantes, appuyez sur shift entrée pour lancer le code Python contenu dans chaque cellule\n",
    "</div>"
   ]
  },
  {
   "cell_type": "code",
   "execution_count": null,
   "metadata": {},
   "outputs": [],
   "source": [
    "def avancement_maximal(a,n_Ai,b,n_Bi):\n",
    "    x_max=min(n_Ai/a, n_Bi/b)\n",
    "    return x_max"
   ]
  },
  {
   "cell_type": "markdown",
   "metadata": {},
   "source": [
    "**Question :**  \n",
    "2) Que fait la fonction 'min' ?"
   ]
  },
  {
   "cell_type": "code",
   "execution_count": null,
   "metadata": {},
   "outputs": [],
   "source": [
    "# essai\n",
    "min(34,56)"
   ]
  },
  {
   "cell_type": "markdown",
   "metadata": {},
   "source": [
    "<div class=\"alert alert-warning\" role=\"alert\">\n",
    "    <strong> Travail à faire sur la fiche réponse : </strong> <br>\n",
    "    --> Répondre à la question <br>\n",
    "</div>"
   ]
  },
  {
   "cell_type": "markdown",
   "metadata": {},
   "source": [
    "On crée ensuite une fonction qui renvoie l'état final du mélange :  \n",
    "2 lignes de code sont à compléter par vos soins"
   ]
  },
  {
   "cell_type": "markdown",
   "metadata": {},
   "source": [
    "<div class=\"alert alert-warning\" role=\"alert\">\n",
    "    <strong> Travail à faire sur la fiche réponse : </strong> <br>\n",
    "     --> Recopier les lignes de code complétées\n",
    "</div>"
   ]
  },
  {
   "cell_type": "code",
   "execution_count": null,
   "metadata": {},
   "outputs": [],
   "source": [
    "def etat_final(a,n_Ai,b,n_Bi,c,n_Ci,d,n_Di):\n",
    "    x_max=avancement_maximal(a,n_Ai,b,n_Bi) # calcul de l'avancement maximal\n",
    "    \n",
    "    n_A=n_Ai-a*x_max # calcul de la quantité de matière pour le réactif A\n",
    "    n_B=???????????????? # ligne à compléter pour le réactif B\n",
    "    n_C=n_Ci+c*x_max\n",
    "    n_D=???????????????? # ligne à compléter pour le produit D\n",
    "    \n",
    "    return n_A, n_B, n_C, n_D # la fonction renvoie 4 nombres qui sont les quantités de matière à l'état final"
   ]
  },
  {
   "cell_type": "markdown",
   "metadata": {},
   "source": [
    "On essaie avec les valeurs de l'exercice :\n",
    "* pour 1,0 mL  de solution de base (ions hydroxyde) versé soit : 0,001 L * 0,25 mol/L \n",
    "* pour les 10,0 mL d'acide citrique initialement dans le bécher soit : 0,0100 L * 0,100 mol/L  \n",
    "  \n",
    "Une seule des 2 lignes de code donne le bon résultat, trouver laquelle.  \n",
    "**Aides :**   \n",
    "* bien repérer les nombres stoechiométriques de l'équation : $ H_{3} A (aq) + 3 HO^{-}  (aq) \\longrightarrow A^{3-}  (aq) + 3 H_{2} O $  \n",
    "* attention ! la virgule de l'écriture décimale est un point en Python !"
   ]
  },
  {
   "cell_type": "markdown",
   "metadata": {},
   "source": [
    "<div class=\"alert alert-info\" role=\"alert\">\n",
    "  <strong>Travail à faire sur le notebook : </strong> <br>\n",
    "    Pour la cellule de code suivante,  enlever le dièse devant une des lignes puis tester l'éxécution du code <br> \n",
    "    appuyez simplement sur shift entrée pour lancer le code Python contenu dans la cellule\n",
    "</div>"
   ]
  },
  {
   "cell_type": "code",
   "execution_count": null,
   "metadata": {},
   "outputs": [],
   "source": [
    "# essai : enlever le dièse devant une des lignes puis tester l'éxécution du code \n",
    "    \n",
    "# etat_final(1, 1E-3, 3, 1E-3*0.25, 1, 0, 3, 0)\n",
    "# etat_final(1, 1E-3*0.25, 3, 1E-3, 1, 0, 3, 0)"
   ]
  },
  {
   "cell_type": "markdown",
   "metadata": {},
   "source": [
    "<div class=\"alert alert-warning\" role=\"alert\">\n",
    "    <strong> Travail à faire sur la fiche réponse : </strong> <br>\n",
    "    --> Répondre à la question <br>\n",
    "</div>"
   ]
  },
  {
   "cell_type": "markdown",
   "metadata": {},
   "source": [
    "On peut améliorer l'écriture du résultat"
   ]
  },
  {
   "cell_type": "markdown",
   "metadata": {},
   "source": [
    "<div class=\"alert alert-info\" role=\"alert\">\n",
    "  <strong>Travail à faire sur le notebook : </strong> <br>\n",
    "    Pour les cellules de code suivantes, appuyez simplement sur shift entrée pour lancer le code Python contenu dans chaque cellule\n",
    "</div>"
   ]
  },
  {
   "cell_type": "code",
   "execution_count": null,
   "metadata": {},
   "outputs": [],
   "source": [
    "n_Af, n_Bf, n_Cf, n_Df = etat_final(1,1E-3,3,1E-3*0.25,1,0,3,0) # stocke les quantités de matières à l'état final dans 4 variables"
   ]
  },
  {
   "cell_type": "code",
   "execution_count": null,
   "metadata": {},
   "outputs": [],
   "source": [
    "print(\"A l'état final, il y a en solution :\")\n",
    "print(f\" espèce A : {round(n_Af,4)} mol\")\n",
    "print(f\" espèce B : {round(n_Bf,4)} mol\") \n",
    "print(f\" espèce C : {round(n_Cf,4)} mol\")\n",
    "print(f\" espèce D : {round(n_Df,4)} mol\")"
   ]
  },
  {
   "cell_type": "markdown",
   "metadata": {},
   "source": [
    "avec une écriture scientifique :"
   ]
  },
  {
   "cell_type": "code",
   "execution_count": null,
   "metadata": {},
   "outputs": [],
   "source": [
    "print(\"A l'état final, il y a en solution :\")\n",
    "print(f\" espèce A : {n_Af:.2e} mol\") # avec une f-string et un nombre formaté en écriture scientifique avec 2 chiffres après la virgule\n",
    "print(f\" espèce B : {n_Bf:.2e} mol\")\n",
    "print(f\" espèce C : {n_Cf:.2e} mol\")\n",
    "print(f\" espèce D : {n_Df:.2e} mol\")"
   ]
  },
  {
   "cell_type": "markdown",
   "metadata": {},
   "source": [
    "## 3- Représentation de l'évolution des quantités de matière dans le mélange au cours d'une réaction chimique"
   ]
  },
  {
   "cell_type": "code",
   "execution_count": null,
   "metadata": {},
   "outputs": [],
   "source": [
    "import matplotlib.pyplot as plt # on importe la bibliothèque permettant de tracer des graphiques\n",
    "%matplotlib inline "
   ]
  },
  {
   "cell_type": "markdown",
   "metadata": {},
   "source": [
    "Le code suivant permet de tracé les courbes d'évolution des réactifs et produits en fonction du volume de réactif titrant versé.  \n",
    "L'objectif est de comprendre ce que fais ce code à chaque étape :  \n",
    "1) début du programme : définition des variables utiles, création de listes  \n",
    "2) boucle pour répéter les opérations jusqu'à ce que le volume maximal soit atteint (25 mL pour une burette)  \n",
    "    * on ajoute un petit volume de titrant (réactif B)  \n",
    "    ** on calcule le nouvel état final  \n",
    "    *** on ajoute les résultats dans les listes de quantités de matière  \n",
    "3) Tracé du graphique\n"
   ]
  },
  {
   "cell_type": "markdown",
   "metadata": {},
   "source": [
    "<div class=\"alert alert-warning\" role=\"alert\">\n",
    "    <strong> Travail à faire : </strong> <br>\n",
    "    --> Lire le code ci-dessous <br>\n",
    "    --> Repérer les différentes parties du programme <br>\n",
    "    --> Répondre aux questions sur la fiche réponse <br>\n",
    "</div>"
   ]
  },
  {
   "cell_type": "code",
   "execution_count": null,
   "metadata": {},
   "outputs": [],
   "source": [
    "def trace_courbes(a,b,c,d,n_Ai,c_B,A,B,C,D,Vmax):\n",
    "    V_B=0 # volume en litre\n",
    "    volume=[V_B] # le dosage n'a pas encore commencé : volume versé = 0 mL = 0 L\n",
    "    dV=0.0001 # choix d'un pas pour le tracé progressif des courbes 0,1 mL à chaque ajout\n",
    "    \n",
    "    # initialisation des listes contenant les quantités de matière\n",
    "    n_A = [n_Ai] \n",
    "    n_B, n_C, n_D =  [0], [0], [0] \n",
    "    \n",
    "    \n",
    "    while (V_B <= Vmax): # tant que le volume n'a pas atteint Vmax mL (burette)\n",
    "        V_B = V_B + dV # on calcule le nouveau volume\n",
    "        volume.append(V_B) # on l'ajoute à la liste\n",
    "        n_Bi = c_B*V_B # on calcule la quantité de B introduite depuis le début\n",
    "        n_Af, n_Bf, n_Cf, n_Df = etat_final(a,n_Ai,b,n_Bi,c,0,d,0) # on utilise la fonction qui donne l'état final (qui est ici un état intermédiaire)\n",
    "        \n",
    "        n_A.append(n_Af) # on ajoute les valeurs dans les listes\n",
    "        n_B.append(n_Bf)\n",
    "        n_C.append(n_Cf)\n",
    "        n_D.append(n_Df)\n",
    "        \n",
    "    plt.xlim(0,1.1*Vmax) # choix taille axes\n",
    "    plt.ylim(0,1.1*max(max(n_A),max(n_B),max(n_C),max(n_D)))\n",
    "    plt.xlabel('volume versé (mL)')\n",
    "    plt.ylabel('quantité de matière ( mol)')\n",
    "    plt.grid()\n",
    "    plt.plot(volume,n_A,'b.',label=A)\n",
    "    plt.plot(volume,n_B,'g.',label=B)\n",
    "    plt.plot(volume,n_C,'r.',label=C)\n",
    "    plt.plot(volume,n_D,'m.',label=D)\n",
    "    plt.legend()\n",
    "    return"
   ]
  },
  {
   "cell_type": "markdown",
   "metadata": {},
   "source": [
    "la fonction est maintenant définie, on l'utilise pour le cas étudié ici"
   ]
  },
  {
   "cell_type": "code",
   "execution_count": null,
   "metadata": {},
   "outputs": [],
   "source": [
    "Vmax = 0.025\n",
    "c_B = 0.25 # en mol/L\n",
    "a, b, c, d = 1, 3, 1, 3 # Equation du type aA + bB -> cC +  dD\n",
    "A, B, C, D = \"H3A\", \"HO-\", \"A3-\", \"H2O\" # pour donner un nom aux espèces\n",
    "n_Ai = 0.60E-3 # pour donner la quantité de matière dans le bécher au départ\n",
    "\n",
    "trace_courbes(a,b,c,d,n_Ai,c_B,A,B,C,D,Vmax)"
   ]
  },
  {
   "cell_type": "markdown",
   "metadata": {},
   "source": [
    "## A vous de jouer : \n",
    "Dans la case suivante utiliser correctement la fonction pour obtenir le code qui donnera le tracé des courbes pour le cas suivant :  \n",
    "<img src=\"images/tableau2.jpg\" title=\"autre dosage\" width=800, height=500/>"
   ]
  },
  {
   "cell_type": "code",
   "execution_count": null,
   "metadata": {},
   "outputs": [],
   "source": [
    "# code à modifier\n",
    "Vmax = 0.025\n",
    "c_B = ?????? # en mol/L\n",
    "a, b, c, d = ?, ?, ?, ? # Equation du type aA + bB -> cC +  dD # ne pas écrire ici les H+ et l'eau H2O\n",
    "A, B, C, D = \"H3cit\", \"HO-\", \"Cit3-\", \"H2O\" # pour donner un nom aux espèces !!!! A MODIFIER !\n",
    "n_Ai = ?????? # pour donner la quantité de matière dans le bécher au départ\n",
    "\n",
    "trace_courbes(a,b,c,d,n_Ai,c_B,A,B,C,D,Vmax)"
   ]
  },
  {
   "cell_type": "markdown",
   "metadata": {},
   "source": [
    "<div class=\"alert alert-success\" role=\"alert\">\n",
    " <strong> Le travail est terminé !</strong> <br>\n",
    "</div>"
   ]
  }
 ],
 "metadata": {
  "kernelspec": {
   "display_name": "Python 3",
   "language": "python",
   "name": "python3"
  },
  "language_info": {
   "codemirror_mode": {
    "name": "ipython",
    "version": 3
   },
   "file_extension": ".py",
   "mimetype": "text/x-python",
   "name": "python",
   "nbconvert_exporter": "python",
   "pygments_lexer": "ipython3",
   "version": "3.7.9"
  }
 },
 "nbformat": 4,
 "nbformat_minor": 4
}
